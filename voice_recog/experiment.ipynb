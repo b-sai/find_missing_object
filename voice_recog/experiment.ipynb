{
 "cells": [
  {
   "cell_type": "code",
   "execution_count": null,
   "metadata": {},
   "outputs": [],
   "source": [
    "import pvporcupine\n",
    "\n",
    "\n",
    "porcupine = pvporcupine.create(\n",
    "    access_key='${ACCESS_KEY}',\n",
    "    keywords=['picovoice', 'bumblebee']\n",
    ")\n"
   ]
  }
 ],
 "metadata": {
  "language_info": {
   "name": "python"
  },
  "orig_nbformat": 4
 },
 "nbformat": 4,
 "nbformat_minor": 2
}
